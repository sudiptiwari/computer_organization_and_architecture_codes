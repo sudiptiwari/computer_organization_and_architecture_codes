{
 "cells": [
  {
   "cell_type": "markdown",
   "id": "70fe59bd",
   "metadata": {},
   "source": [
    "## Program to perform n-bit multiplication"
   ]
  },
  {
   "cell_type": "markdown",
   "id": "69aaf655",
   "metadata": {},
   "source": [
    "### Importing another .ipynb file"
   ]
  },
  {
   "cell_type": "code",
   "execution_count": 1,
   "id": "1d3851af",
   "metadata": {},
   "outputs": [],
   "source": [
    "%run add.ipynb"
   ]
  },
  {
   "cell_type": "markdown",
   "id": "c59b33af",
   "metadata": {},
   "source": [
    "### Testing whether the function is imported or not"
   ]
  },
  {
   "cell_type": "code",
   "execution_count": 2,
   "id": "f55a7c5a",
   "metadata": {},
   "outputs": [
    {
     "name": "stdout",
     "output_type": "stream",
     "text": [
      "('00001111', '0')\n"
     ]
    }
   ],
   "source": [
    "print(addition('1010','0101', 8))"
   ]
  },
  {
   "cell_type": "code",
   "execution_count": null,
   "id": "42076292",
   "metadata": {},
   "outputs": [],
   "source": [
    "n = int(input(\"Enter the number of bits: \"))\n",
    "#--------------------------------------------------------------------\n",
    "M = input(\"Enter the Multiplicand: \")\n",
    "M = M.zfill(n)\n",
    "print(f\"M = {M}\")\n",
    "#--------------------------------------------------------------------\n",
    "Q = input(\"Enter the Multiplier: \")\n",
    "Q = Q.zfill(n)\n",
    "print(f\"Q = {Q}\")\n",
    "#--------------------------------------------------------------------\n",
    "A = '0'\n",
    "A = A.zfill(n)\n",
    "print(f\"A = {A}\")"
   ]
  },
  {
   "cell_type": "markdown",
   "id": "68426c40",
   "metadata": {},
   "source": [
    "## Right shift operation function"
   ]
  },
  {
   "cell_type": "code",
   "execution_count": 33,
   "id": "f44c2144",
   "metadata": {},
   "outputs": [],
   "source": [
    "def right_shift(inp,c='0'):\n",
    "    return c+inp[:-1]"
   ]
  },
  {
   "cell_type": "code",
   "execution_count": 34,
   "id": "b1a3e94e",
   "metadata": {},
   "outputs": [
    {
     "name": "stdout",
     "output_type": "stream",
     "text": [
      "0101\n"
     ]
    }
   ],
   "source": [
    "print(right_shift('1010'))"
   ]
  },
  {
   "cell_type": "code",
   "execution_count": 35,
   "id": "7c1c6603",
   "metadata": {},
   "outputs": [
    {
     "name": "stdout",
     "output_type": "stream",
     "text": [
      "0100101\n"
     ]
    }
   ],
   "source": [
    "a = '1001'\n",
    "b = '011'\n",
    "print(right_shift(a+b))"
   ]
  },
  {
   "cell_type": "markdown",
   "id": "716afb90",
   "metadata": {},
   "source": [
    "## Multiplication function"
   ]
  },
  {
   "cell_type": "code",
   "execution_count": 36,
   "id": "e26b98c0",
   "metadata": {},
   "outputs": [],
   "source": [
    "def multiply_partial_product(M, Q, A, n):\n",
    "    for i in range(len(Q)):\n",
    "        C = '0'\n",
    "        if(Q[-1] == '1'):\n",
    "            A,C = addition(A,M,n)\n",
    "        right_shifted_A_Q = right_shift(A+Q,C)\n",
    "#         print(right_shifted_A_Q)\n",
    "        A = right_shifted_A_Q[:n]\n",
    "        Q = right_shifted_A_Q[n:]\n",
    "#         print(f'A = {A}')\n",
    "#         print(f'Q = {Q}')\n",
    "    return A+Q"
   ]
  },
  {
   "cell_type": "code",
   "execution_count": 37,
   "id": "d7dbbd73",
   "metadata": {},
   "outputs": [],
   "source": [
    "ans = multiply_partial_product(M, Q, A, n)"
   ]
  },
  {
   "cell_type": "code",
   "execution_count": 38,
   "id": "bbce8643",
   "metadata": {},
   "outputs": [
    {
     "name": "stdout",
     "output_type": "stream",
     "text": [
      "   101\n",
      "X  010\n",
      "------\n",
      "001010\n"
     ]
    }
   ],
   "source": [
    "print(f'{M.rjust(len(ans))}') # right justify\n",
    "print('X'+f'{Q.rjust(len(ans)-1)}')\n",
    "print((len(ans))*'-')\n",
    "print(ans)"
   ]
  },
  {
   "cell_type": "code",
   "execution_count": null,
   "id": "dd0e4a55",
   "metadata": {},
   "outputs": [],
   "source": []
  },
  {
   "cell_type": "code",
   "execution_count": null,
   "id": "89a01f68",
   "metadata": {},
   "outputs": [],
   "source": []
  }
 ],
 "metadata": {
  "kernelspec": {
   "display_name": "Python 3 (ipykernel)",
   "language": "python",
   "name": "python3"
  },
  "language_info": {
   "codemirror_mode": {
    "name": "ipython",
    "version": 3
   },
   "file_extension": ".py",
   "mimetype": "text/x-python",
   "name": "python",
   "nbconvert_exporter": "python",
   "pygments_lexer": "ipython3",
   "version": "3.11.3"
  }
 },
 "nbformat": 4,
 "nbformat_minor": 5
}
