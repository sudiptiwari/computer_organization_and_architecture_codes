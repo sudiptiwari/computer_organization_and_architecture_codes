{
 "cells": [
  {
   "cell_type": "code",
   "execution_count": 1,
   "id": "3e38714d",
   "metadata": {},
   "outputs": [],
   "source": [
    "def AND(input1, input2):\n",
    "    if(input1 == '1' and input2 == '1'):\n",
    "        return '1'\n",
    "    else:\n",
    "        return '0'\n",
    "    \n",
    "    \n",
    "def OR(input1, input2):\n",
    "    if(input1 == '1' or input2 == '1'):\n",
    "        return '1'\n",
    "    else:\n",
    "        return '0'\n",
    "    \n",
    "    \n",
    "def NOT(input1):\n",
    "    if(input1 == '0'):\n",
    "        return '1'\n",
    "    else:\n",
    "        return '0'\n",
    "    \n",
    "    \n",
    "def XOR(input1, input2):\n",
    "    if(input1 == input2):\n",
    "        return '0'\n",
    "    else:\n",
    "        return '1'\n",
    "    \n",
    "    \n",
    "def addition(num1, num2, n):\n",
    "    num1 = num1.zfill(n)\n",
    "    num2 = num2.zfill(n)\n",
    "    reversed_num1 = num1[::-1]\n",
    "    reversed_num2 = num2[::-1]\n",
    "    cin = '0' # initial carry in = 0\n",
    "    SUM = ''\n",
    "    for i in range(n):\n",
    "        SUM = SUM + XOR(XOR(reversed_num1[i],reversed_num2[i]),cin)\n",
    "        intermediate_xor = XOR(reversed_num1[i], reversed_num2[i])\n",
    "        intermediate_and = AND(reversed_num1[i], reversed_num2[i])\n",
    "        cin = OR(intermediate_and, AND(intermediate_xor,cin))\n",
    "#     cin = OR(AND(reversed_num1[i],reversed_num2[i]),AND(XOR(reversed_num1[i],reversed_num2[i]),cin))\n",
    "\n",
    "    SUM = SUM[::-1]\n",
    "    return SUM, cin\n"
   ]
  }
 ],
 "metadata": {
  "kernelspec": {
   "display_name": "Python 3 (ipykernel)",
   "language": "python",
   "name": "python3"
  },
  "language_info": {
   "codemirror_mode": {
    "name": "ipython",
    "version": 3
   },
   "file_extension": ".py",
   "mimetype": "text/x-python",
   "name": "python",
   "nbconvert_exporter": "python",
   "pygments_lexer": "ipython3",
   "version": "3.11.3"
  }
 },
 "nbformat": 4,
 "nbformat_minor": 5
}
