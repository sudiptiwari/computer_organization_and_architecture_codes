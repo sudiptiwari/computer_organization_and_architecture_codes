{
 "cells": [
  {
   "cell_type": "markdown",
   "id": "ebd9b568",
   "metadata": {},
   "source": [
    "## Define AND function"
   ]
  },
  {
   "cell_type": "code",
   "execution_count": 5,
   "id": "7f8e902a",
   "metadata": {},
   "outputs": [],
   "source": [
    "def AND(input1, input2):\n",
    "    if(input1 == '1' and input2 == '1'):\n",
    "        return '1'\n",
    "    else:\n",
    "        return '0'"
   ]
  },
  {
   "cell_type": "code",
   "execution_count": 6,
   "id": "4c660886",
   "metadata": {
    "scrolled": true
   },
   "outputs": [
    {
     "name": "stdout",
     "output_type": "stream",
     "text": [
      "0\n"
     ]
    }
   ],
   "source": [
    "print(AND('1','0'))"
   ]
  },
  {
   "cell_type": "markdown",
   "id": "0af05e9d",
   "metadata": {},
   "source": [
    "## Define OR function"
   ]
  },
  {
   "cell_type": "code",
   "execution_count": 7,
   "id": "fcc62a51",
   "metadata": {},
   "outputs": [],
   "source": [
    "def OR(input1, input2):\n",
    "    if(input1 == '1' or input2 == '1'):\n",
    "        return '1'\n",
    "    else:\n",
    "        return '0'\n",
    "\n",
    "# def OR(input1, input2):\n",
    "#     if(input1 == '0' and input2=='0'):\n",
    "#         return '0'\n",
    "#     else:\n",
    "#         return '1'"
   ]
  },
  {
   "cell_type": "code",
   "execution_count": 8,
   "id": "fc82debc",
   "metadata": {},
   "outputs": [
    {
     "name": "stdout",
     "output_type": "stream",
     "text": [
      "1\n"
     ]
    }
   ],
   "source": [
    "print(OR('1','0'))"
   ]
  },
  {
   "cell_type": "markdown",
   "id": "d55125e0",
   "metadata": {},
   "source": [
    "\n",
    "## Define NOT function"
   ]
  },
  {
   "cell_type": "code",
   "execution_count": 9,
   "id": "23615368",
   "metadata": {},
   "outputs": [],
   "source": [
    "def NOT(input1):\n",
    "    if(input1 == '0'):\n",
    "        return '1'\n",
    "    else:\n",
    "        return '0'\n"
   ]
  },
  {
   "cell_type": "code",
   "execution_count": 10,
   "id": "769a06f0",
   "metadata": {},
   "outputs": [
    {
     "name": "stdout",
     "output_type": "stream",
     "text": [
      "0\n"
     ]
    }
   ],
   "source": [
    "print(NOT('1'))"
   ]
  },
  {
   "cell_type": "markdown",
   "id": "34670ffc",
   "metadata": {},
   "source": [
    "## Define XOR function"
   ]
  },
  {
   "cell_type": "code",
   "execution_count": 11,
   "id": "f154ed81",
   "metadata": {},
   "outputs": [],
   "source": [
    "def XOR(input1, input2):\n",
    "    if(input1 == input2):\n",
    "        return '0'\n",
    "    else:\n",
    "        return '1'"
   ]
  },
  {
   "cell_type": "code",
   "execution_count": 12,
   "id": "d33d17bf",
   "metadata": {},
   "outputs": [
    {
     "name": "stdout",
     "output_type": "stream",
     "text": [
      "1\n"
     ]
    }
   ],
   "source": [
    "print(XOR('1','0'))"
   ]
  },
  {
   "cell_type": "markdown",
   "id": "67c0fdce",
   "metadata": {},
   "source": [
    "## Prompt to enter the no. of bits and the two binary numbers"
   ]
  },
  {
   "cell_type": "code",
   "execution_count": 13,
   "id": "6084944f",
   "metadata": {},
   "outputs": [
    {
     "name": "stdout",
     "output_type": "stream",
     "text": [
      "Enter the number of bits 8\n"
     ]
    }
   ],
   "source": [
    "n = int(input('Enter the number of bits '))"
   ]
  },
  {
   "cell_type": "code",
   "execution_count": 14,
   "id": "aea9b137",
   "metadata": {},
   "outputs": [
    {
     "name": "stdout",
     "output_type": "stream",
     "text": [
      "Enter the first binary number 10101101\n",
      "Reversed binary: 10110101\n"
     ]
    }
   ],
   "source": [
    "num1 = input('Enter the first binary number ')\n",
    "num1 = num1.zfill(n) # makes num1 of 'n' length and does zero padding in front\n",
    "reversed_num1 = num1[::-1]\n",
    "print('Reversed binary:',reversed_num1)"
   ]
  },
  {
   "cell_type": "code",
   "execution_count": 15,
   "id": "029b6cec",
   "metadata": {},
   "outputs": [
    {
     "name": "stdout",
     "output_type": "stream",
     "text": [
      "Enter the second binary number 11111111\n",
      "Reversed binary: 11111111\n"
     ]
    }
   ],
   "source": [
    "num2 = input('Enter the second binary number ')\n",
    "num2 = num2.zfill(n) # makes num1 of 'n' length and does zero padding in front\n",
    "reversed_num2 = num2[::-1]\n",
    "print('Reversed binary:',reversed_num2)"
   ]
  },
  {
   "cell_type": "markdown",
   "id": "d94c8d35",
   "metadata": {},
   "source": [
    "## Addition algorithm for reversed binary numbers"
   ]
  },
  {
   "cell_type": "code",
   "execution_count": 16,
   "id": "ad4d3e2a",
   "metadata": {},
   "outputs": [],
   "source": [
    "cin = '0' # initial carry in = 0\n",
    "SUM = ''\n",
    "for i in range(0,n):\n",
    "    SUM = SUM + XOR(XOR(reversed_num1[i],reversed_num2[i]),cin)\n",
    "    intermediate_xor = XOR(reversed_num1[i], reversed_num2[i])\n",
    "    intermediate_and = AND(reversed_num1[i], reversed_num2[i])\n",
    "    cin = OR(intermediate_and, AND(intermediate_xor,cin))\n",
    "#     cin = OR(AND(reversed_num1[i],reversed_num2[i]),AND(XOR(reversed_num1[i],reversed_num2[i]),cin))\n",
    "\n",
    "SUM = SUM[::-1]"
   ]
  },
  {
   "cell_type": "markdown",
   "id": "717245df",
   "metadata": {},
   "source": [
    "## Display the result"
   ]
  },
  {
   "cell_type": "code",
   "execution_count": 17,
   "id": "59651be9",
   "metadata": {},
   "outputs": [
    {
     "name": "stdout",
     "output_type": "stream",
     "text": [
      " 10101101\n",
      "+11111111\n",
      "---------\n",
      "110101100\n"
     ]
    }
   ],
   "source": [
    "print(' '+num1)\n",
    "print('+'+num2)\n",
    "print('-'*(n+1)) # print (n+1) hyphens'-'\n",
    "print(cin+SUM) # remember to add carry in front only after reversing SUM"
   ]
  },
  {
   "cell_type": "code",
   "execution_count": null,
   "id": "49322841",
   "metadata": {},
   "outputs": [],
   "source": []
  }
 ],
 "metadata": {
  "kernelspec": {
   "display_name": "Python 3 (ipykernel)",
   "language": "python",
   "name": "python3"
  },
  "language_info": {
   "codemirror_mode": {
    "name": "ipython",
    "version": 3
   },
   "file_extension": ".py",
   "mimetype": "text/x-python",
   "name": "python",
   "nbconvert_exporter": "python",
   "pygments_lexer": "ipython3",
   "version": "3.11.3"
  }
 },
 "nbformat": 4,
 "nbformat_minor": 5
}
